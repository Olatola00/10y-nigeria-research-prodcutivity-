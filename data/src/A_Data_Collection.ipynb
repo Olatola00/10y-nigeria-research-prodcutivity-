{
  "nbformat": 4,
  "nbformat_minor": 0,
  "metadata": {
    "colab": {
      "provenance": []
    },
    "kernelspec": {
      "name": "python3",
      "display_name": "Python 3"
    },
    "language_info": {
      "name": "python"
    }
  },
  "cells": [
    {
      "cell_type": "markdown",
      "source": [
        "**Data Collection**\n",
        "\n",
        "Data Downloded using the scopus search interface acccessed at \"*https://www.scopus.com*\". (This will require an institutional access to scopus). The word 'nigeria' was typed into the 'Search documents' bar, the option 'affiliation' was selected in the \"Search within\", while the year range was set to 2014 - 2023. This returned the record of all documents affiliated with Nigeria witn that period.\n",
        "\n",
        "However, toogling the Scopus \"Advance query\" bar, a single query “(AFFIL (nigeria)  AND  PUBYEAR  >  2012  AND  PUBYEAR  <  2024)”  was used to retrieve the data. Afterwards, the data was dowloaded as CSV files based on disciplines by selecting one discipline in the filter bar as a time.\n",
        "\n",
        "Subsequently, A column \"Discipline\" was added to each file to indicate its Scopus discipline afterwhich the datasets were merged. Asides from the default citation information provided in the Scopus data, the Bibliographical information, and the Abstract & keywords details were also downloaded"
      ],
      "metadata": {
        "id": "66pNk94qsod4"
      }
    },
    {
      "cell_type": "code",
      "execution_count": null,
      "metadata": {
        "id": "5LC2rn5733dj"
      },
      "outputs": [],
      "source": [
        "# run this every session assuming environment is on google colab\n",
        "\n",
        "from google.colab import drive\n",
        "drive.mount('/content/drive')"
      ]
    },
    {
      "cell_type": "code",
      "execution_count": null,
      "metadata": {
        "id": "z2hNG9knTiNI"
      },
      "outputs": [],
      "source": [
        "import pandas as pd\n",
        "import numpy as np\n",
        "import re\n",
        "import random\n",
        "import ast"
      ]
    },
    {
      "cell_type": "markdown",
      "source": [],
      "metadata": {
        "id": "UxiLrpVMzftt"
      }
    },
    {
      "cell_type": "code",
      "execution_count": null,
      "metadata": {
        "id": "BjpdmV_mui-I"
      },
      "outputs": [],
      "source": [
        "# read scopus .csv files\n",
        "df_scopus_merged = pd.read_csv('/content/drive/MyDrive/Colab Notebooks/Scopus Downloads/scopus_2014-23.csv')\n",
        "df_scopus_merged.info()"
      ]
    },
    {
      "cell_type": "code",
      "source": [
        "# check the year distribution\n",
        "df_scopus_merged['Year'].value_counts()"
      ],
      "metadata": {
        "id": "ihp3AWvw_3DQ"
      },
      "execution_count": null,
      "outputs": []
    },
    {
      "cell_type": "code",
      "source": [
        "# drop where the year is not between 2014 and 2023\n",
        "df_scopus_merged = df_scopus_merged[df_scopus_merged['Year'].between(2014, 2023)]\n",
        "\n",
        "# check the year distribution\n",
        "df_scopus_merged['Year'].value_counts()"
      ],
      "metadata": {
        "id": "wBBM3gKfA3WJ"
      },
      "execution_count": null,
      "outputs": []
    },
    {
      "cell_type": "code",
      "source": [
        "df_scopus_merged.shape"
      ],
      "metadata": {
        "colab": {
          "base_uri": "https://localhost:8080/"
        },
        "id": "nevWzhn9q1jM",
        "outputId": "76d04451-cc6d-480f-f6d4-d4d56f6c586a"
      },
      "execution_count": null,
      "outputs": [
        {
          "output_type": "execute_result",
          "data": {
            "text/plain": [
              "(122898, 36)"
            ]
          },
          "metadata": {},
          "execution_count": 6
        }
      ]
    },
    {
      "cell_type": "markdown",
      "source": [
        "This is the overall data set used for this analysis. It was also used to create the network maps on Vos Viewer\n",
        "\n",
        "Note: this data should not be modified not change at any point"
      ],
      "metadata": {
        "id": "f6-hgw5fT-GZ"
      }
    }
  ]
}