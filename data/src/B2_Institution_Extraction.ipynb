{
  "nbformat": 4,
  "nbformat_minor": 0,
  "metadata": {
    "colab": {
      "provenance": []
    },
    "kernelspec": {
      "name": "python3",
      "display_name": "Python 3"
    },
    "language_info": {
      "name": "python"
    }
  },
  "cells": [
    {
      "cell_type": "markdown",
      "source": [
        "**Prepare Institution data**"
      ],
      "metadata": {
        "id": "otYpZSFAyAAs"
      }
    },
    {
      "cell_type": "markdown",
      "source": [
        "The list of Scopus institutions that prodcued all the publications in the main dataframe was matched against the institution data from Wikipedia to produce a clean institution data suitable for extracting the Nigerian institutions' records from the main data and exploring institutional productivity metrics.\n",
        "This cleaning was done manually on googlesheet. The cleaned names are stored as aliases."
      ],
      "metadata": {
        "id": "8xSVX0wCXUME"
      }
    },
    {
      "cell_type": "code",
      "source": [
        "# Load the CSV file including all Nigerian institutions and Scopus participating institutions\n",
        "institutions_df = pd.read_csv('/content/drive/MyDrive/Colab Notebooks/scopusWiki_affil.csv')\n",
        "\n",
        "institutions_df.info()"
      ],
      "metadata": {
        "id": "YJWB35GYWqpy",
        "colab": {
          "base_uri": "https://localhost:8080/"
        },
        "outputId": "1e6b0923-cbc5-43a1-b740-006783f37f24"
      },
      "execution_count": null,
      "outputs": [
        {
          "output_type": "stream",
          "name": "stdout",
          "text": [
            "<class 'pandas.core.frame.DataFrame'>\n",
            "RangeIndex: 310 entries, 0 to 309\n",
            "Data columns (total 5 columns):\n",
            " #   Column            Non-Null Count  Dtype \n",
            "---  ------            --------------  ----- \n",
            " 0   Institution name  310 non-null    object\n",
            " 1   Abbreviation      310 non-null    object\n",
            " 2   Funding           310 non-null    object\n",
            " 3   Institution_type  310 non-null    object\n",
            " 4   Alias             116 non-null    object\n",
            "dtypes: object(5)\n",
            "memory usage: 12.2+ KB\n"
          ]
        }
      ]
    },
    {
      "cell_type": "code",
      "source": [
        "institutions_df.sample(1)"
      ],
      "metadata": {
        "colab": {
          "base_uri": "https://localhost:8080/",
          "height": 98
        },
        "id": "PcSlZnCMyCd4",
        "outputId": "e3b43373-a5fa-4b30-8c9d-f25922c7f3b1"
      },
      "execution_count": null,
      "outputs": [
        {
          "output_type": "execute_result",
          "data": {
            "text/plain": [
              "                           Institution name Abbreviation  Funding  \\\n",
              "43  Adeyemi Federal University of Education        AFUED  Federal   \n",
              "\n",
              "   Institution_type                       Alias  \n",
              "43       University  Adeyemi Federal University  "
            ],
            "text/html": [
              "\n",
              "  <div id=\"df-c0844c7b-95d6-49c5-a864-217b772bd368\" class=\"colab-df-container\">\n",
              "    <div>\n",
              "<style scoped>\n",
              "    .dataframe tbody tr th:only-of-type {\n",
              "        vertical-align: middle;\n",
              "    }\n",
              "\n",
              "    .dataframe tbody tr th {\n",
              "        vertical-align: top;\n",
              "    }\n",
              "\n",
              "    .dataframe thead th {\n",
              "        text-align: right;\n",
              "    }\n",
              "</style>\n",
              "<table border=\"1\" class=\"dataframe\">\n",
              "  <thead>\n",
              "    <tr style=\"text-align: right;\">\n",
              "      <th></th>\n",
              "      <th>Institution name</th>\n",
              "      <th>Abbreviation</th>\n",
              "      <th>Funding</th>\n",
              "      <th>Institution_type</th>\n",
              "      <th>Alias</th>\n",
              "    </tr>\n",
              "  </thead>\n",
              "  <tbody>\n",
              "    <tr>\n",
              "      <th>43</th>\n",
              "      <td>Adeyemi Federal University of Education</td>\n",
              "      <td>AFUED</td>\n",
              "      <td>Federal</td>\n",
              "      <td>University</td>\n",
              "      <td>Adeyemi Federal University</td>\n",
              "    </tr>\n",
              "  </tbody>\n",
              "</table>\n",
              "</div>\n",
              "    <div class=\"colab-df-buttons\">\n",
              "\n",
              "  <div class=\"colab-df-container\">\n",
              "    <button class=\"colab-df-convert\" onclick=\"convertToInteractive('df-c0844c7b-95d6-49c5-a864-217b772bd368')\"\n",
              "            title=\"Convert this dataframe to an interactive table.\"\n",
              "            style=\"display:none;\">\n",
              "\n",
              "  <svg xmlns=\"http://www.w3.org/2000/svg\" height=\"24px\" viewBox=\"0 -960 960 960\">\n",
              "    <path d=\"M120-120v-720h720v720H120Zm60-500h600v-160H180v160Zm220 220h160v-160H400v160Zm0 220h160v-160H400v160ZM180-400h160v-160H180v160Zm440 0h160v-160H620v160ZM180-180h160v-160H180v160Zm440 0h160v-160H620v160Z\"/>\n",
              "  </svg>\n",
              "    </button>\n",
              "\n",
              "  <style>\n",
              "    .colab-df-container {\n",
              "      display:flex;\n",
              "      gap: 12px;\n",
              "    }\n",
              "\n",
              "    .colab-df-convert {\n",
              "      background-color: #E8F0FE;\n",
              "      border: none;\n",
              "      border-radius: 50%;\n",
              "      cursor: pointer;\n",
              "      display: none;\n",
              "      fill: #1967D2;\n",
              "      height: 32px;\n",
              "      padding: 0 0 0 0;\n",
              "      width: 32px;\n",
              "    }\n",
              "\n",
              "    .colab-df-convert:hover {\n",
              "      background-color: #E2EBFA;\n",
              "      box-shadow: 0px 1px 2px rgba(60, 64, 67, 0.3), 0px 1px 3px 1px rgba(60, 64, 67, 0.15);\n",
              "      fill: #174EA6;\n",
              "    }\n",
              "\n",
              "    .colab-df-buttons div {\n",
              "      margin-bottom: 4px;\n",
              "    }\n",
              "\n",
              "    [theme=dark] .colab-df-convert {\n",
              "      background-color: #3B4455;\n",
              "      fill: #D2E3FC;\n",
              "    }\n",
              "\n",
              "    [theme=dark] .colab-df-convert:hover {\n",
              "      background-color: #434B5C;\n",
              "      box-shadow: 0px 1px 3px 1px rgba(0, 0, 0, 0.15);\n",
              "      filter: drop-shadow(0px 1px 2px rgba(0, 0, 0, 0.3));\n",
              "      fill: #FFFFFF;\n",
              "    }\n",
              "  </style>\n",
              "\n",
              "    <script>\n",
              "      const buttonEl =\n",
              "        document.querySelector('#df-c0844c7b-95d6-49c5-a864-217b772bd368 button.colab-df-convert');\n",
              "      buttonEl.style.display =\n",
              "        google.colab.kernel.accessAllowed ? 'block' : 'none';\n",
              "\n",
              "      async function convertToInteractive(key) {\n",
              "        const element = document.querySelector('#df-c0844c7b-95d6-49c5-a864-217b772bd368');\n",
              "        const dataTable =\n",
              "          await google.colab.kernel.invokeFunction('convertToInteractive',\n",
              "                                                    [key], {});\n",
              "        if (!dataTable) return;\n",
              "\n",
              "        const docLinkHtml = 'Like what you see? Visit the ' +\n",
              "          '<a target=\"_blank\" href=https://colab.research.google.com/notebooks/data_table.ipynb>data table notebook</a>'\n",
              "          + ' to learn more about interactive tables.';\n",
              "        element.innerHTML = '';\n",
              "        dataTable['output_type'] = 'display_data';\n",
              "        await google.colab.output.renderOutput(dataTable, element);\n",
              "        const docLink = document.createElement('div');\n",
              "        docLink.innerHTML = docLinkHtml;\n",
              "        element.appendChild(docLink);\n",
              "      }\n",
              "    </script>\n",
              "  </div>\n",
              "\n",
              "\n",
              "    </div>\n",
              "  </div>\n"
            ],
            "application/vnd.google.colaboratory.intrinsic+json": {
              "type": "dataframe",
              "summary": "{\n  \"name\": \"institutions_df\",\n  \"rows\": 1,\n  \"fields\": [\n    {\n      \"column\": \"Institution name\",\n      \"properties\": {\n        \"dtype\": \"string\",\n        \"num_unique_values\": 1,\n        \"samples\": [\n          \"Adeyemi Federal University of Education\"\n        ],\n        \"semantic_type\": \"\",\n        \"description\": \"\"\n      }\n    },\n    {\n      \"column\": \"Abbreviation\",\n      \"properties\": {\n        \"dtype\": \"string\",\n        \"num_unique_values\": 1,\n        \"samples\": [\n          \"AFUED\"\n        ],\n        \"semantic_type\": \"\",\n        \"description\": \"\"\n      }\n    },\n    {\n      \"column\": \"Funding\",\n      \"properties\": {\n        \"dtype\": \"string\",\n        \"num_unique_values\": 1,\n        \"samples\": [\n          \"Federal\"\n        ],\n        \"semantic_type\": \"\",\n        \"description\": \"\"\n      }\n    },\n    {\n      \"column\": \"Institution_type\",\n      \"properties\": {\n        \"dtype\": \"string\",\n        \"num_unique_values\": 1,\n        \"samples\": [\n          \"University\"\n        ],\n        \"semantic_type\": \"\",\n        \"description\": \"\"\n      }\n    },\n    {\n      \"column\": \"Alias\",\n      \"properties\": {\n        \"dtype\": \"string\",\n        \"num_unique_values\": 1,\n        \"samples\": [\n          \"Adeyemi Federal University\"\n        ],\n        \"semantic_type\": \"\",\n        \"description\": \"\"\n      }\n    }\n  ]\n}"
            }
          },
          "metadata": {},
          "execution_count": 27
        }
      ]
    },
    {
      "cell_type": "markdown",
      "source": [
        "Now, we proceed to extract the institution involved"
      ],
      "metadata": {
        "id": "Cs2bwb6v8Idr"
      }
    },
    {
      "cell_type": "code",
      "source": [
        "# Split the 'Alias' column based on ';' and create a new list column\n",
        "institutions_df['Alias_Split'] = institutions_df['Alias'].str.split(';')\n",
        "\n",
        "# Explode the new list column to separate records into rows\n",
        "all_institutions = institutions_df.explode('Alias_Split')\n",
        "\n",
        "# Drop the original 'Alias' column and rename 'Alias_Split' to 'Alias'\n",
        "all_institutions = all_institutions.drop(columns=['Alias']).rename(columns={'Alias_Split': 'Alias'})\n",
        "\n",
        "# Combine the 'Name' and 'Alias' columns into a single list\n",
        "all_institutions = institutions_df['Institution name'].tolist() + all_institutions['Alias'].dropna().tolist()"
      ],
      "metadata": {
        "id": "_jGbKWTfNyPX"
      },
      "execution_count": null,
      "outputs": []
    },
    {
      "cell_type": "code",
      "source": [
        "print(all_institutions)\n",
        "len(all_institutions)"
      ],
      "metadata": {
        "colab": {
          "base_uri": "https://localhost:8080/"
        },
        "id": "5nAm5CSxuE6m",
        "outputId": "3bae1e95-5a7d-48bf-fa16-ef11119048c0"
      },
      "execution_count": null,
      "outputs": [
        {
          "output_type": "stream",
          "name": "stdout",
          "text": [
            "['Centre for Management Development', 'Cocoa Research Institute of Nigeria', 'Federal Institute of Industrial Research', 'Forestry Research Institute of Nigeria', 'Institute of Agricultural Research and Training', 'Institute of Archaeology and Museum Studies', 'Institute of Human Virology - Nigeria', 'International Institute of Tropical Agriculture', 'International Livestock Research Institute', 'Lake Chad Research Institute', 'National Agricultural Extension and Research Liaison Services', 'National Animal Production Research Institute', 'National Centre for Agricultural Mechanization', 'National Centre for Energy Research and Development', 'National Centre for Genetic Resources and Biotechnology', 'National Cereals Research Institute', 'National Horticultural Research Institute', 'National Institute for Freshwater Fisheries Research', 'National Institute of Pharmaceutical Research and Development', 'National Research Institute for Chemical Technology', 'National Root Crops Research Institute', 'National Space Research and Development Agency', 'National Veterinary Research Institute', 'Nigerian Academy of Science', 'Nigerian Building and Road Research Institute', 'Nigerian Educational Research and Development Council', 'Nigerian Institute for Oceanography and Marine Research', 'Nigerian Institute for Oil Palm Research', 'Nigerian Institute for Trypanosomiasis Research', 'Nigerian Institute of Medical Research', 'Nigerian Institute of Social and Economic Research', 'Nigerian Stored Products Research Institute', 'Projects Development Institute', 'Raw Materials Research and Development Council', 'Rubber Research Institute of Nigeria', 'Social Sciences Academy of Nigeria', 'AbdulKadir Kure University', 'Abia State University', 'Abubakar Tafawa Balewa University', 'Achievers University', 'Adamawa State University Mubi', 'Adekunle Ajasin University', 'Adeleke University', 'Adeyemi Federal University of Education', 'Admiralty University Ibusa', 'Afe Babalola University', 'African Aviation and Aerospace University', 'African University of Economics', 'African University of Science & Technology', 'Ahmadu Bello University', 'Ahman Pategi University', 'Air Force Institute of Technology', 'Ajayi Crowther University', 'Akwa Ibom State University', 'Al-Ansar University', 'Al-Bayan University', 'Al-Hikmah University', 'Al-Istiqama University', 'Al-Muhibbah Open University', 'Al-Qalam University', 'Aletheia University', 'Alex Ekwueme University', 'Alvan Ikoku Federal University of Education, Owerri', 'Amadeus University', 'Amaj University', 'Ambrose Alli University', 'American University of Nigeria', 'Anan University', 'Anchor University Ayobo Lagos State', 'Arthur Javis University Akpoyubo Cross river State', 'Atiba University, Oyo', 'Augustine University', 'Ave Maria University', 'Azman University', 'Baba Ahmed University', 'Babcock University', 'Bamidele Olumilua University of Science and Technology, Ikere', 'Bauchi State University', 'Bayelsa Medical University', 'Bayero University', 'Baze University', 'Bells University of Technology', 'Benson Idahosa University', 'Benue State University', 'Bingham University', 'Bornu State University', 'Bowen University', 'British Canadian University', 'Caleb University', 'Canadian University of Nigeria', 'Capital City University', 'Caritas University', 'Chrisland University', 'Christopher University, Mowe', 'Chukwuemeka Odumegwu Ojukwu University', 'Claretian University of Nigeria', 'Clifford University Owerrinta', 'Coal City University', 'College of Petroleum and Energy Studies', 'Confluence University of Science and Technology Osara', 'Cosmopolitan University, Abuja', 'Covenant University', 'Crawford University, Igbesa', 'Crescent University', 'Cross River State University of Technology', 'David Nweze Umahi Federal University of Medical Sciences', 'Delta State University Abraka', 'Delta University of Science and Technology', 'Dennis Osadebe University', 'Dominican University, Ibadan', 'Dominion University, Ibadan', 'Ebonyi State University', 'Edo State University', 'Edusoko University', 'Edwin Clark University', 'Ekiti State University', 'Eko University of Medical and Health Sciences', 'El-Amin University', 'Elizade University', 'Elrazi Medical University Yargaya University', 'Emanuel Alayande University of Education', 'Enugu State University of Science and Technology', 'European University of Nigeria', 'Evangel University', 'Federal University Birnin Kebbi', 'Federal University Dutse', 'Federal University Dutsin-Ma', 'Federal University Gashua', 'Federal University Gusau', 'Federal University Kashere', 'Federal University Lafia', 'Federal University Lokoja', 'Federal University of Agriculture, Bassam-Biri', 'Federal University of Agriculture, Abeokuta', 'Federal University of Agriculture, Mubi', 'Federal University of Agriculture, Zuru', 'Federal University of Education, Kano', 'Federal University of Education, Zaria', 'Federal University of Health Sciences, Kwale', 'Federal University of Health Sciences, Azare', 'Federal University of Health Sciences, Ila-orangun', 'Federal University of Health Sciences, Katsina', 'Federal University of Health Sciences, Otukpo', 'Federal University of Petroleum Resources, Effurun', 'Federal University of Technology, Akure', 'Federal University of Technology, Babura', 'Federal University of Technology, Ikot Abasi', 'Federal University of Technology, Minna', 'Federal University of Technology, Owerri', 'Federal University of Transportation, Daura', 'Federal University Otuoke', 'Federal University Oye-Ekiti', 'Federal University Wukari', 'First Technical University', 'Fountain Unveristy', 'Franco British International University', 'Gerar University of Medical Science', 'Glorious Vision University', 'Godfrey Okoye University', 'Gombe State Univeristy', 'Gombe State University of Science and Technology', 'Greenfield University', 'Gregory University', 'Hallmark University', 'Havilla University', 'Hensard University', 'Hezekiah University', 'Hillside University of Science and Technology', 'Huda University', 'Ibrahim Badamasi Babangida University', 'Iconic Open University', 'Igbinedion University', 'Ignatius Ajuru University of Education', 'Imo State University', 'James Hope University', 'Jewel University', 'Joseph Ayo Babalola University', 'Joseph Sarwuan Tarka University', 'Kaduna State University', 'Kano University of Science & Technology', 'Karl-Kumm University', 'Kebbi State University of Science and Technology', 'Khadija University', 'Khalifa Isiyaku Rabiu University', 'Kings University', 'Kingsley Ozumba Mbadiwe University', 'Kogi State University', 'Kola Daisi University Ibadan', 'Kwara State University', 'Kwararafa University', 'Ladoke Akintola University of Technology', 'Lagos State University', 'Lagos State University of Education', 'Lagos State University of Science and Technology', 'Landmark University', 'Lead City University', 'Legacy University', 'Lighthouse University', 'Lux Mundi University', 'Madonna University', 'Maduka University', 'Maranathan University', 'Margaret Lawrence University', 'Maryam Abacha American University of Nigeria', 'Mcpherson University', 'Mercy Medical University', 'Mewar International University', 'Michael Okpara University of Agricultural', 'Micheal & Cecilia Ibru University', 'Miva Open University', 'Modibbo Adama University of Technology', 'Moshood Abiola University of Science and Technology', 'Mountain Top University', 'Mudiame University', 'Muhammad Kamalud University', 'Nasarawa State University', 'National Open University of Nigeria', 'National University of Science and Technology, Abuja', 'Newgate University', 'Niger Delta University', 'Nigeria Police Academy', 'Nigerian Army University', 'Nigerian British University', 'Nigerian Defence Academy', 'Nigerian Maritime University', 'Nigerian University of Technology and Management', 'Nile University of Nigeria', 'Nnamdi Azikiwe University', 'NOK University', 'North Eastern University', 'NorthWest University', 'Novena University', 'Obafemi Awolowo University', 'Obong University', 'Oduduwa University', 'Ojaja University', 'Olabisi Onabanjo University', 'Ondo State University of Medical Sciences', 'Ondo State University of Science and Technology', 'Osun State University', 'PAMO University of Medical Sciences', 'Pan-Atlantic University', 'Paul University', 'PeaceLand University', 'Peter University', 'Philomath University', 'Phoenix University', 'Plateau State University', 'Precious Cornerstone University', 'Prime University', 'Prince Abubakar Audu University', 'Rayhaan University', \"Redeemer's University\", 'Renaissance University', 'Rhema University', 'Ritman University', 'Rivers State University', 'Sa’adatu Rimi University of Education', 'Saisa University of Medical Sciences and Technology', 'Salem University', 'Sam Maris University', 'Shanahan University', 'Shehu Shagari University of Education', 'Skyline University', 'Sokoto State University', 'Southwestern University', 'Spiritan University', 'Sports University', 'State University of Medical and Applied Sciences', 'Sule Lamido University', 'Summit University', 'Tai Solarin University of Education', 'Tansian University', 'Taraba State University', 'The Duke Medical University', 'Thomas Adewumi University', 'Topfaith University', 'Trinity University', \"Umar Musa Yar' Adua University\", 'University of Abuja', 'University of Africa', 'University of Agriculture and Environmental Sciences', 'University of Benin', 'University of Calabar', 'University of Delta', 'University of Ibadan', 'University of Ilesa', 'University of Ilorin', 'University of Jos', 'University of Lagos', 'University of Maiduguri', 'University of Mkar', 'University of Nigeria', 'University of Offa', 'University of Port-Harcourt', 'University of Uyo', 'University on the Niger', 'Usumanu Danfodiyo University', 'Venite University', 'Veritas University', 'Vision University', 'Wellspring University', 'Wesley University', 'West Midlands Open University', 'Western Delta University', 'Westland University', 'Wigwe University', 'Yobe State University', 'Yusuf Maitama Sule University Kano', 'Zamfara State University', 'Institute of Agricultural Research & Training', 'Institute of Archaeology & Museum Studies', 'National Agricultural Extension & Research Liaison Services', 'National Centre for Energy Research & Development', 'National Centre for Genetic Resources & Biotechnology', 'National Institute of Pharmaceutical Research & Development', 'National Space Research and Development', ' National Space Research & Development', ' National Space Research & Development Agency', 'Nigerian Building & Road Research Institute', 'Nigerian Institute for Oceanography & Marine Research', 'Nigerian Institute of Social & Economic Research', 'Raw Materials Research & Development Council', 'Abia State University Teaching Hospital', 'Abubakar Tafawa Balewa University Teaching Hospital', 'Adamawa State University', 'Adeyemi Federal University', 'Admiralty University', 'Afe Babalola University Teaching Hospital', 'Ahmadu Bello University Teaching Hospital', 'Akwa Ibom State University of Science and Technology', ' Akwa Ibom State University of Science & Technology', 'Al-Muhibbah University', 'Alex Ekwueme', ' Alex Ekwueme Federal University Ndufu-Alike', ' Alex Ekwueme Federal University, Ndufu-Alike', ' Alex Ekwueme Federal Teaching Hospital', ' Federal Teaching Hospital, Abakaliki', 'Alvan Ikoku Federal University of Education', 'Amadeus University, Amizi', ' Amadeus University Amizi', 'Anchor University', 'Arthur Javis University', 'Atiba University', 'Bamidele Olumilua University', 'Aminu Kano Teaching Hospital', 'Benue State University Teaching Hospital', 'ECWA Bingham University', ' Bingham University Teaching Hospital', ' ECWA Evangel Hospital', 'Christopher University', 'Anambra State University', 'Clifford University', 'Confluence University', ' Confluence University of Science & Technology', ' Confluence University of Science and Technology', 'Cosmopolitan University', 'College of Management and Social Sciences', ' College of Management & Social Sciences', 'Crawford University', 'Cross River University of Technology, Calabar', ' Cross River University of Technology Calabar', ' Cross River State University', 'David Nweze Umahi Federal University', 'Delta State University', ' Delta State University Nigeria', ' Delta State University, Abraka', ' Delta State University Teaching Hospital', 'Dominican University', 'Dominion University', 'Edo State University, Uzairue', ' Edo State University Uzairue', ' Edo University Iyamho', 'Enugu State University', ' Enugu State University Teaching Hospital', ' Anambra State University of Technology', ' Enugu State University of Science & Technology', 'Federal University, Birnin Kebbi', ' Federal University of Birnin Kebbi', 'Federal University of Dutse', ' Federal University, Dutse', ' Rasheed Shekoni Federal University Teaching Hospital', 'Federal University of Dutsin-Ma', ' Federal University, Dutsin-Ma', 'Federal University of Gashua', ' Federal University, Gashua', 'Federal University of Gusau', ' Federal University, Gusau', 'Federal University of Kashere', ' Federal University, Kashere', 'Federal University of Lafia', ' Federal University, Lafia', 'Federal University of Lokoja', ' Federal University, Lokoja', 'Federal University of Agriculture Bassam-Biri', 'Federal University of Agriculture Abeokuta', ' Federal University of Agriculture, PMB 2240, Abeokuta', 'Federal University of Agriculture Mubi', 'Federal University of Agriculture Zuru', 'Federal University of Education Kano', 'Federal University of Education Zaria', 'Federal University of Health Sciences Kwale', 'Federal University of Health Sciences Azare', 'Federal University of Health Sciences Ila-orangun', 'Federal University of Health Sciences Katsina', 'Federal University of Health Sciences Otukpo', 'Federal University of Petroleum Resources', ' Federal University of Petroleum Resources Effurun', ' Federal University of Petroleum Resources, Nigeria', 'Federal University of Technology, Department of Animal Production and Health, Akure', ' Federal University of Technology Akure', ' Federal University of Technology, P.M.B. 704, Akure', 'Federal University of Technology Babura', 'Federal University of Technology Ikot Abasi', 'Federal University of Technology Minna', ' Federal University of Technology (FUT), Minna', ' Federal University of Technology, P.M.B. 65, Minna', ' Federal University of Technology, Department of Telecommunication Engineering, Niger-state', ' Federal University of Technology Minna, Dept. of Telecommunication Engineering, Niger', ' Federal University of Technology, School of Electrical Engineering and Technology, Dept. of Telecommunications Engineering, Minna', ' Federal University of Technology, Niger', \" Federal University of Tech, Dept of Electrical/Electronic Engr'g, Niger State\", ' Federal University of Technology, Department of Computer Science, Minna', ' Federal University of Tech., Electrical Department, Niger State', '  Federal University of Technology Gidan Kwano', ' Federal University of Technology, Department of Computer Engineering, Niger State', ' Federal University of Technology, Department of Electrical and Electronics Engineering, Niger State', ' Federal University of Technology, Telecommunication Department, Niger State', '  Federal University of Technology, Department of Transport Management Technology, Niger State', ' Federal University of Technology, Department of Mechatronics Engineering, Niger State', 'Federal University of Technology Owerri', ' Federal University of Technology, P.M.B. 1526, Imo state', 'Federal University of Transportation', 'Federal University, Otuoke', 'Federal University, Oye-Ekiti', 'Federal University, Wukari', ' Federal University Teaching Hospital Wukari', ' Federal University Teaching Hospital, Wukari', 'Gombe State University', ' Gombe State University of Science & Technology', 'Hillside University', ' Hillside University of Science & Technology', 'Igbinedion University Teaching Hospital', 'Ignatius Ajuru University', 'Imo State University Teaching Hospital', 'Federal University of Agriculture, Makurdi', ' Federal University of Agriculture Makurdi', 'Barau Dikko Teaching Hospital', 'Aliko Dangote University of Science and Technology', ' Kano University of Science and Technology', ' Aliko Dangote University of Science & Technology', 'Kebbi State University', 'Kola Daisi University', 'Ladoke Akintola University', ' Ladoke Akintola University of Technology Teaching Hospital', 'Lagos State University Teaching Hospital', 'Lagos State University of Science & Technology', 'Michael Okpara University', 'Micheal and Cecilia Ibru University', 'Modibbo Adama University, Yola', ' Modibbo Adama University Yola', ' Modibbo Adama University of Technology, Yola', ' Modibbo Adama University of Technology Yola', 'Moshood Abiola University of Science & Technology', 'National University of Science and Technology Abuja', ' National University of Science & Technology Abuja', ' National University of Science & Technology, Abuja', 'Niger Delta University Teaching Hospital', 'Nigerian University of Technology & Management', 'Nile University', 'Nnamdi Azikiwe University Teaching Hospital', 'Northwest University', 'Obafemi Awolowo University Teaching Hospital', ' Obafemi Awolowo University Teaching Hospitals Complex', 'Olabisi Onabanjo University Teaching Hospital', 'Ondo State University of Science & Technology', \"Redeemer's University Nigeria\", \" Redeemer's University, Nigeria\", 'Saisa University of Medical Sciences & Technology', 'Shehu Shagari University', 'State University of Medical & Applied Sciences', 'Tai Solarin University', 'Abuja University Teaching Hospital', ' University of Abuja Teaching Hospital', 'University of Benin Teaching Hospital', ' Irrua Specialist Teaching Hospital', 'University of Calabar Teaching Hospital', 'College of Medicine, University of Ibadan', ' University College Hospital, Ibadan', ' University College Hospital Ibadan', 'Jos University Teaching Hospital', 'College of Medicine, University of Lagos', ' Lagos University Teaching Hospital', 'Hilltop University', 'University of Nigeria, Nsukka', ' University of Nigeria Nsukka', ' University of Nigeria Teaching Hospital', 'University of Port, Harcourt Teaching Hospital', ' University of Port Harcourt Teaching Hospital', ' University of Port Harcourt', 'University of Uyo Teaching Hospital', 'Usmanu Danfodiyo University Teaching Hospital', ' Usmanu Danfodiyo University', 'Yusuf Maitama Sule University, Kano', ' Yusuf Maitama Sule University']\n"
          ]
        },
        {
          "output_type": "execute_result",
          "data": {
            "text/plain": [
              "505"
            ]
          },
          "metadata": {},
          "execution_count": 29
        }
      ]
    },
    {
      "cell_type": "code",
      "source": [
        "'University of Ilorin' in all_institutions"
      ],
      "metadata": {
        "colab": {
          "base_uri": "https://localhost:8080/"
        },
        "id": "vfJw7pxM6ycC",
        "outputId": "c62254df-b2cd-4e5c-9566-84e09b235b72"
      },
      "execution_count": null,
      "outputs": [
        {
          "output_type": "execute_result",
          "data": {
            "text/plain": [
              "True"
            ]
          },
          "metadata": {},
          "execution_count": 30
        }
      ]
    },
    {
      "cell_type": "markdown",
      "source": [
        "**Extraction technique A**"
      ],
      "metadata": {
        "id": "jUhwVFFVpC5V"
      }
    },
    {
      "cell_type": "code",
      "source": [
        "\"\"\"\n",
        "# Compile a regex pattern to match any of these affiliations\n",
        "affiliations_pattern = r'\\b(' + '|'.join(map(re.escape, all_institutions)) + r')\\b'\n",
        "\n",
        "# Ensure that all entries in 'Authors with affiliations' are strings\n",
        "df_scopus_main['Authors with affiliations'] = df_scopus_main['Authors with affiliations'].astype(str)\n",
        "\n",
        "def extract_institutions(affiliations):\n",
        "    affiliations_involved = re.findall(affiliations_pattern, affiliations, re.IGNORECASE)\n",
        "    return list(set(affiliations_involved))\n",
        "\"\"\""
      ],
      "metadata": {
        "id": "g3XJjPF5m-Hl",
        "colab": {
          "base_uri": "https://localhost:8080/",
          "height": 125
        },
        "outputId": "bfa3c31c-4ec9-4204-d91e-19bd8375cefd"
      },
      "execution_count": null,
      "outputs": [
        {
          "output_type": "execute_result",
          "data": {
            "text/plain": [
              "\"\\n# Compile a regex pattern to match any of these affiliations\\naffiliations_pattern = r'\\x08(' + '|'.join(map(re.escape, all_institutions)) + r')\\x08'\\n\\n# Ensure that all entries in 'Authors with affiliations' are strings\\ndf_scopus_main['Authors with affiliations'] = df_scopus_main['Authors with affiliations'].astype(str)\\n\\ndef extract_institutions(affiliations):\\n    affiliations_involved = re.findall(affiliations_pattern, affiliations, re.IGNORECASE)\\n    return list(set(affiliations_involved))\\n\""
            ],
            "application/vnd.google.colaboratory.intrinsic+json": {
              "type": "string"
            }
          },
          "metadata": {},
          "execution_count": 31
        }
      ]
    },
    {
      "cell_type": "markdown",
      "source": [
        "**Extraction Technique B** - Preffered"
      ],
      "metadata": {
        "id": "BVEDd2-epILs"
      }
    },
    {
      "cell_type": "code",
      "source": [
        "# Function to extract the institutions from the 'Authors with affiliations' column\n",
        "def extract_institutions(affiliations):\n",
        "    found_institutions = []\n",
        "    if isinstance(affiliations, str):  # Check if the input is a valid string\n",
        "        for institution in all_institutions:\n",
        "            if institution.lower() in affiliations.lower():\n",
        "                found_institutions.append(institution.strip())  # Ensure institutions are stripped of whitespace\n",
        "    return list(set(found_institutions))  # Return unique institutions only"
      ],
      "metadata": {
        "id": "2g0jwWDnxkCx"
      },
      "execution_count": null,
      "outputs": []
    },
    {
      "cell_type": "code",
      "source": [
        "# Apply the function to the 'Authors with affiliations' column and create a new column named 'Institutions'\n",
        "df_scopus_main['Institutions involved'] = df_scopus_main['Authors with affiliations'].apply(extract_institutions)"
      ],
      "metadata": {
        "id": "28g8hDrTO6kf"
      },
      "execution_count": null,
      "outputs": []
    },
    {
      "cell_type": "code",
      "source": [
        "df_scopus_main['Institutions involved'].sample(3)"
      ],
      "metadata": {
        "colab": {
          "base_uri": "https://localhost:8080/",
          "height": 178
        },
        "id": "R3UcZrRNbZ34",
        "outputId": "36462503-1136-4290-b5e2-b7fc5fb03b6f"
      },
      "execution_count": null,
      "outputs": [
        {
          "output_type": "execute_result",
          "data": {
            "text/plain": [
              "107139                                                   []\n",
              "85                                  [University of Nigeria]\n",
              "89695     [University of Ibadan, University of Maiduguri...\n",
              "Name: Institutions involved, dtype: object"
            ],
            "text/html": [
              "<div>\n",
              "<style scoped>\n",
              "    .dataframe tbody tr th:only-of-type {\n",
              "        vertical-align: middle;\n",
              "    }\n",
              "\n",
              "    .dataframe tbody tr th {\n",
              "        vertical-align: top;\n",
              "    }\n",
              "\n",
              "    .dataframe thead th {\n",
              "        text-align: right;\n",
              "    }\n",
              "</style>\n",
              "<table border=\"1\" class=\"dataframe\">\n",
              "  <thead>\n",
              "    <tr style=\"text-align: right;\">\n",
              "      <th></th>\n",
              "      <th>Institutions involved</th>\n",
              "    </tr>\n",
              "  </thead>\n",
              "  <tbody>\n",
              "    <tr>\n",
              "      <th>107139</th>\n",
              "      <td>[]</td>\n",
              "    </tr>\n",
              "    <tr>\n",
              "      <th>85</th>\n",
              "      <td>[University of Nigeria]</td>\n",
              "    </tr>\n",
              "    <tr>\n",
              "      <th>89695</th>\n",
              "      <td>[University of Ibadan, University of Maiduguri...</td>\n",
              "    </tr>\n",
              "  </tbody>\n",
              "</table>\n",
              "</div><br><label><b>dtype:</b> object</label>"
            ]
          },
          "metadata": {},
          "execution_count": 34
        }
      ]
    },
    {
      "cell_type": "code",
      "source": [
        "# Filter records where the 'Institutions involved' column is an empty list\n",
        "no_match_records = df_scopus_main[df_scopus_main['Institutions involved'].apply(lambda x: isinstance(x, list) and len(x) == 0)]"
      ],
      "metadata": {
        "id": "RPCxvXrweNlk"
      },
      "execution_count": null,
      "outputs": []
    },
    {
      "cell_type": "code",
      "source": [
        "no_match_records.sample(3)"
      ],
      "metadata": {
        "colab": {
          "base_uri": "https://localhost:8080/",
          "height": 459
        },
        "id": "7zhZ9wonee1X",
        "outputId": "2d1413a9-e49f-4e0c-ae27-844ebccbb070"
      },
      "execution_count": null,
      "outputs": [
        {
          "output_type": "execute_result",
          "data": {
            "text/plain": [
              "                      EID                          Authors with affiliations  \\\n",
              "66184  2-s2.0-85083234053  Abdullahi H., Department of Urban and Regional...   \n",
              "84869  2-s2.0-85110391637  Goni M.D., Department of Microbiology and Para...   \n",
              "81199  2-s2.0-85114687376  Danbatta S.J., Kano State Institute for Inform...   \n",
              "\n",
              "       Year                              DOI     Document Type  \\\n",
              "66184  2020   10.1088/1755-1315/450/1/012011  Conference paper   \n",
              "84869  2021        10.3389/fpubh.2021.594204           Article   \n",
              "81199  2021  10.1109/ISDFS52919.2021.9486325  Conference paper   \n",
              "\n",
              "                                             Open Access Discipline  \\\n",
              "66184                  All Open Access; Gold Open Access        ENV   \n",
              "84869  All Open Access; Gold Open Access; Green Open ...      MED 1   \n",
              "81199                                                NaN       ENGI   \n",
              "\n",
              "               Countries involved                    Region  \\\n",
              "66184  [Nigeria, China, Malaysia]  [Outside Africa, Africa]   \n",
              "84869         [Nigeria, Malaysia]  [Outside Africa, Africa]   \n",
              "81199           [Nigeria, Turkey]  [Outside Africa, Africa]   \n",
              "\n",
              "      Collaboration Type Institutions involved  \n",
              "66184      International                    []  \n",
              "84869      International                    []  \n",
              "81199      International                    []  "
            ],
            "text/html": [
              "\n",
              "  <div id=\"df-a41f4122-4095-49b1-8c6c-d6ea1c9b7a52\" class=\"colab-df-container\">\n",
              "    <div>\n",
              "<style scoped>\n",
              "    .dataframe tbody tr th:only-of-type {\n",
              "        vertical-align: middle;\n",
              "    }\n",
              "\n",
              "    .dataframe tbody tr th {\n",
              "        vertical-align: top;\n",
              "    }\n",
              "\n",
              "    .dataframe thead th {\n",
              "        text-align: right;\n",
              "    }\n",
              "</style>\n",
              "<table border=\"1\" class=\"dataframe\">\n",
              "  <thead>\n",
              "    <tr style=\"text-align: right;\">\n",
              "      <th></th>\n",
              "      <th>EID</th>\n",
              "      <th>Authors with affiliations</th>\n",
              "      <th>Year</th>\n",
              "      <th>DOI</th>\n",
              "      <th>Document Type</th>\n",
              "      <th>Open Access</th>\n",
              "      <th>Discipline</th>\n",
              "      <th>Countries involved</th>\n",
              "      <th>Region</th>\n",
              "      <th>Collaboration Type</th>\n",
              "      <th>Institutions involved</th>\n",
              "    </tr>\n",
              "  </thead>\n",
              "  <tbody>\n",
              "    <tr>\n",
              "      <th>66184</th>\n",
              "      <td>2-s2.0-85083234053</td>\n",
              "      <td>Abdullahi H., Department of Urban and Regional...</td>\n",
              "      <td>2020</td>\n",
              "      <td>10.1088/1755-1315/450/1/012011</td>\n",
              "      <td>Conference paper</td>\n",
              "      <td>All Open Access; Gold Open Access</td>\n",
              "      <td>ENV</td>\n",
              "      <td>[Nigeria, China, Malaysia]</td>\n",
              "      <td>[Outside Africa, Africa]</td>\n",
              "      <td>International</td>\n",
              "      <td>[]</td>\n",
              "    </tr>\n",
              "    <tr>\n",
              "      <th>84869</th>\n",
              "      <td>2-s2.0-85110391637</td>\n",
              "      <td>Goni M.D., Department of Microbiology and Para...</td>\n",
              "      <td>2021</td>\n",
              "      <td>10.3389/fpubh.2021.594204</td>\n",
              "      <td>Article</td>\n",
              "      <td>All Open Access; Gold Open Access; Green Open ...</td>\n",
              "      <td>MED 1</td>\n",
              "      <td>[Nigeria, Malaysia]</td>\n",
              "      <td>[Outside Africa, Africa]</td>\n",
              "      <td>International</td>\n",
              "      <td>[]</td>\n",
              "    </tr>\n",
              "    <tr>\n",
              "      <th>81199</th>\n",
              "      <td>2-s2.0-85114687376</td>\n",
              "      <td>Danbatta S.J., Kano State Institute for Inform...</td>\n",
              "      <td>2021</td>\n",
              "      <td>10.1109/ISDFS52919.2021.9486325</td>\n",
              "      <td>Conference paper</td>\n",
              "      <td>NaN</td>\n",
              "      <td>ENGI</td>\n",
              "      <td>[Nigeria, Turkey]</td>\n",
              "      <td>[Outside Africa, Africa]</td>\n",
              "      <td>International</td>\n",
              "      <td>[]</td>\n",
              "    </tr>\n",
              "  </tbody>\n",
              "</table>\n",
              "</div>\n",
              "    <div class=\"colab-df-buttons\">\n",
              "\n",
              "  <div class=\"colab-df-container\">\n",
              "    <button class=\"colab-df-convert\" onclick=\"convertToInteractive('df-a41f4122-4095-49b1-8c6c-d6ea1c9b7a52')\"\n",
              "            title=\"Convert this dataframe to an interactive table.\"\n",
              "            style=\"display:none;\">\n",
              "\n",
              "  <svg xmlns=\"http://www.w3.org/2000/svg\" height=\"24px\" viewBox=\"0 -960 960 960\">\n",
              "    <path d=\"M120-120v-720h720v720H120Zm60-500h600v-160H180v160Zm220 220h160v-160H400v160Zm0 220h160v-160H400v160ZM180-400h160v-160H180v160Zm440 0h160v-160H620v160ZM180-180h160v-160H180v160Zm440 0h160v-160H620v160Z\"/>\n",
              "  </svg>\n",
              "    </button>\n",
              "\n",
              "  <style>\n",
              "    .colab-df-container {\n",
              "      display:flex;\n",
              "      gap: 12px;\n",
              "    }\n",
              "\n",
              "    .colab-df-convert {\n",
              "      background-color: #E8F0FE;\n",
              "      border: none;\n",
              "      border-radius: 50%;\n",
              "      cursor: pointer;\n",
              "      display: none;\n",
              "      fill: #1967D2;\n",
              "      height: 32px;\n",
              "      padding: 0 0 0 0;\n",
              "      width: 32px;\n",
              "    }\n",
              "\n",
              "    .colab-df-convert:hover {\n",
              "      background-color: #E2EBFA;\n",
              "      box-shadow: 0px 1px 2px rgba(60, 64, 67, 0.3), 0px 1px 3px 1px rgba(60, 64, 67, 0.15);\n",
              "      fill: #174EA6;\n",
              "    }\n",
              "\n",
              "    .colab-df-buttons div {\n",
              "      margin-bottom: 4px;\n",
              "    }\n",
              "\n",
              "    [theme=dark] .colab-df-convert {\n",
              "      background-color: #3B4455;\n",
              "      fill: #D2E3FC;\n",
              "    }\n",
              "\n",
              "    [theme=dark] .colab-df-convert:hover {\n",
              "      background-color: #434B5C;\n",
              "      box-shadow: 0px 1px 3px 1px rgba(0, 0, 0, 0.15);\n",
              "      filter: drop-shadow(0px 1px 2px rgba(0, 0, 0, 0.3));\n",
              "      fill: #FFFFFF;\n",
              "    }\n",
              "  </style>\n",
              "\n",
              "    <script>\n",
              "      const buttonEl =\n",
              "        document.querySelector('#df-a41f4122-4095-49b1-8c6c-d6ea1c9b7a52 button.colab-df-convert');\n",
              "      buttonEl.style.display =\n",
              "        google.colab.kernel.accessAllowed ? 'block' : 'none';\n",
              "\n",
              "      async function convertToInteractive(key) {\n",
              "        const element = document.querySelector('#df-a41f4122-4095-49b1-8c6c-d6ea1c9b7a52');\n",
              "        const dataTable =\n",
              "          await google.colab.kernel.invokeFunction('convertToInteractive',\n",
              "                                                    [key], {});\n",
              "        if (!dataTable) return;\n",
              "\n",
              "        const docLinkHtml = 'Like what you see? Visit the ' +\n",
              "          '<a target=\"_blank\" href=https://colab.research.google.com/notebooks/data_table.ipynb>data table notebook</a>'\n",
              "          + ' to learn more about interactive tables.';\n",
              "        element.innerHTML = '';\n",
              "        dataTable['output_type'] = 'display_data';\n",
              "        await google.colab.output.renderOutput(dataTable, element);\n",
              "        const docLink = document.createElement('div');\n",
              "        docLink.innerHTML = docLinkHtml;\n",
              "        element.appendChild(docLink);\n",
              "      }\n",
              "    </script>\n",
              "  </div>\n",
              "\n",
              "\n",
              "<div id=\"df-bded2a4a-93e4-4af3-b373-d3ccbf808669\">\n",
              "  <button class=\"colab-df-quickchart\" onclick=\"quickchart('df-bded2a4a-93e4-4af3-b373-d3ccbf808669')\"\n",
              "            title=\"Suggest charts\"\n",
              "            style=\"display:none;\">\n",
              "\n",
              "<svg xmlns=\"http://www.w3.org/2000/svg\" height=\"24px\"viewBox=\"0 0 24 24\"\n",
              "     width=\"24px\">\n",
              "    <g>\n",
              "        <path d=\"M19 3H5c-1.1 0-2 .9-2 2v14c0 1.1.9 2 2 2h14c1.1 0 2-.9 2-2V5c0-1.1-.9-2-2-2zM9 17H7v-7h2v7zm4 0h-2V7h2v10zm4 0h-2v-4h2v4z\"/>\n",
              "    </g>\n",
              "</svg>\n",
              "  </button>\n",
              "\n",
              "<style>\n",
              "  .colab-df-quickchart {\n",
              "      --bg-color: #E8F0FE;\n",
              "      --fill-color: #1967D2;\n",
              "      --hover-bg-color: #E2EBFA;\n",
              "      --hover-fill-color: #174EA6;\n",
              "      --disabled-fill-color: #AAA;\n",
              "      --disabled-bg-color: #DDD;\n",
              "  }\n",
              "\n",
              "  [theme=dark] .colab-df-quickchart {\n",
              "      --bg-color: #3B4455;\n",
              "      --fill-color: #D2E3FC;\n",
              "      --hover-bg-color: #434B5C;\n",
              "      --hover-fill-color: #FFFFFF;\n",
              "      --disabled-bg-color: #3B4455;\n",
              "      --disabled-fill-color: #666;\n",
              "  }\n",
              "\n",
              "  .colab-df-quickchart {\n",
              "    background-color: var(--bg-color);\n",
              "    border: none;\n",
              "    border-radius: 50%;\n",
              "    cursor: pointer;\n",
              "    display: none;\n",
              "    fill: var(--fill-color);\n",
              "    height: 32px;\n",
              "    padding: 0;\n",
              "    width: 32px;\n",
              "  }\n",
              "\n",
              "  .colab-df-quickchart:hover {\n",
              "    background-color: var(--hover-bg-color);\n",
              "    box-shadow: 0 1px 2px rgba(60, 64, 67, 0.3), 0 1px 3px 1px rgba(60, 64, 67, 0.15);\n",
              "    fill: var(--button-hover-fill-color);\n",
              "  }\n",
              "\n",
              "  .colab-df-quickchart-complete:disabled,\n",
              "  .colab-df-quickchart-complete:disabled:hover {\n",
              "    background-color: var(--disabled-bg-color);\n",
              "    fill: var(--disabled-fill-color);\n",
              "    box-shadow: none;\n",
              "  }\n",
              "\n",
              "  .colab-df-spinner {\n",
              "    border: 2px solid var(--fill-color);\n",
              "    border-color: transparent;\n",
              "    border-bottom-color: var(--fill-color);\n",
              "    animation:\n",
              "      spin 1s steps(1) infinite;\n",
              "  }\n",
              "\n",
              "  @keyframes spin {\n",
              "    0% {\n",
              "      border-color: transparent;\n",
              "      border-bottom-color: var(--fill-color);\n",
              "      border-left-color: var(--fill-color);\n",
              "    }\n",
              "    20% {\n",
              "      border-color: transparent;\n",
              "      border-left-color: var(--fill-color);\n",
              "      border-top-color: var(--fill-color);\n",
              "    }\n",
              "    30% {\n",
              "      border-color: transparent;\n",
              "      border-left-color: var(--fill-color);\n",
              "      border-top-color: var(--fill-color);\n",
              "      border-right-color: var(--fill-color);\n",
              "    }\n",
              "    40% {\n",
              "      border-color: transparent;\n",
              "      border-right-color: var(--fill-color);\n",
              "      border-top-color: var(--fill-color);\n",
              "    }\n",
              "    60% {\n",
              "      border-color: transparent;\n",
              "      border-right-color: var(--fill-color);\n",
              "    }\n",
              "    80% {\n",
              "      border-color: transparent;\n",
              "      border-right-color: var(--fill-color);\n",
              "      border-bottom-color: var(--fill-color);\n",
              "    }\n",
              "    90% {\n",
              "      border-color: transparent;\n",
              "      border-bottom-color: var(--fill-color);\n",
              "    }\n",
              "  }\n",
              "</style>\n",
              "\n",
              "  <script>\n",
              "    async function quickchart(key) {\n",
              "      const quickchartButtonEl =\n",
              "        document.querySelector('#' + key + ' button');\n",
              "      quickchartButtonEl.disabled = true;  // To prevent multiple clicks.\n",
              "      quickchartButtonEl.classList.add('colab-df-spinner');\n",
              "      try {\n",
              "        const charts = await google.colab.kernel.invokeFunction(\n",
              "            'suggestCharts', [key], {});\n",
              "      } catch (error) {\n",
              "        console.error('Error during call to suggestCharts:', error);\n",
              "      }\n",
              "      quickchartButtonEl.classList.remove('colab-df-spinner');\n",
              "      quickchartButtonEl.classList.add('colab-df-quickchart-complete');\n",
              "    }\n",
              "    (() => {\n",
              "      let quickchartButtonEl =\n",
              "        document.querySelector('#df-bded2a4a-93e4-4af3-b373-d3ccbf808669 button');\n",
              "      quickchartButtonEl.style.display =\n",
              "        google.colab.kernel.accessAllowed ? 'block' : 'none';\n",
              "    })();\n",
              "  </script>\n",
              "</div>\n",
              "\n",
              "    </div>\n",
              "  </div>\n"
            ],
            "application/vnd.google.colaboratory.intrinsic+json": {
              "type": "dataframe",
              "summary": "{\n  \"name\": \"no_match_records\",\n  \"rows\": 3,\n  \"fields\": [\n    {\n      \"column\": \"EID\",\n      \"properties\": {\n        \"dtype\": \"string\",\n        \"num_unique_values\": 3,\n        \"samples\": [\n          \"2-s2.0-85083234053\",\n          \"2-s2.0-85110391637\",\n          \"2-s2.0-85114687376\"\n        ],\n        \"semantic_type\": \"\",\n        \"description\": \"\"\n      }\n    },\n    {\n      \"column\": \"Authors with affiliations\",\n      \"properties\": {\n        \"dtype\": \"string\",\n        \"num_unique_values\": 3,\n        \"samples\": [\n          \"Abdullahi H., Department of Urban and Regional Planning, School of Environmental Science and Technolog Federal Polytechnic Mubi, PMB, 35, Adamawa State, Nigeria, Department of Urban and Regional Planning, Faculty of Built Environment and Surveying, Universiti Teknologi Malaysia UTM Skudai, Johor, 81310, Malaysia; Sinniah G.K., Department of Urban and Regional Planning, Faculty of Built Environment and Surveying, Universiti Teknologi Malaysia UTM Skudai, Johor, 81310, Malaysia; Siong H.C., UTM Low Carbon Asia Research Centre, Universiti Teknologi Malaysia UTM Skudai, Johor, 81310, Malaysia; Wei L.R., Department of Urban and Regional Planning, Faculty of Built Environment and Surveying, Universiti Teknologi Malaysia UTM Skudai, Johor, 81310, Malaysia, School of Physics and Mechanical Engineering, Shao Guan University, Shao Guan, China\",\n          \"Goni M.D., Department of Microbiology and Parasitology, School of Medical Sciences, Universiti Sains Malaysia, George Town, Malaysia, Faculty of Veterinary Medicine, Universiti Malaysia Kelantan, City Campus, Kota Bharu, Malaysia; Naing N.N., Faculty of Medicine, Medical Campus, Universiti Sultan Zainal Abidin, Kuala Terengganu, Malaysia; Hasan H., Department of Microbiology and Parasitology, School of Medical Sciences, Universiti Sains Malaysia, George Town, Malaysia; Wan-Arfah N., Faculty of Health Sciences, Universiti Sultan Zainal Abidin, Kuala Terengganu, Malaysia; Deris Z.Z., Department of Microbiology and Parasitology, School of Medical Sciences, Universiti Sains Malaysia, George Town, Malaysia; Arifin W.N., Unit of Biostatistics and Research Methodology, School of Medical Sciences, Universiti Sains Malaysia Health Campus, Kubang Kerian, Malaysia; Baaba A.A., Centre for Language Studies and Generic Development, Universiti Malaysia Kelantan, Kota Baharu, Malaysia; Adam B.M., African Institute of One Health Research Diagnostics (AIOHRD), Abuja, Nigeria; Arshad M.R., School of Computer Sciences, Universiti Sains Malaysia, George Town, Malaysia\",\n          \"Danbatta S.J., Kano State Institute for Information Technology, Department of Computer Science, Kano, Nigeria; Varol A., Maltepe University, College of Engineering and Natural Sciences, Department of Computer Engineering, Maltepe/Istanbul, 34857, Turkey\"\n        ],\n        \"semantic_type\": \"\",\n        \"description\": \"\"\n      }\n    },\n    {\n      \"column\": \"Year\",\n      \"properties\": {\n        \"dtype\": \"number\",\n        \"std\": 0,\n        \"min\": 2020,\n        \"max\": 2021,\n        \"num_unique_values\": 2,\n        \"samples\": [\n          2021,\n          2020\n        ],\n        \"semantic_type\": \"\",\n        \"description\": \"\"\n      }\n    },\n    {\n      \"column\": \"DOI\",\n      \"properties\": {\n        \"dtype\": \"string\",\n        \"num_unique_values\": 3,\n        \"samples\": [\n          \"10.1088/1755-1315/450/1/012011\",\n          \"10.3389/fpubh.2021.594204\"\n        ],\n        \"semantic_type\": \"\",\n        \"description\": \"\"\n      }\n    },\n    {\n      \"column\": \"Document Type\",\n      \"properties\": {\n        \"dtype\": \"string\",\n        \"num_unique_values\": 2,\n        \"samples\": [\n          \"Article\",\n          \"Conference paper\"\n        ],\n        \"semantic_type\": \"\",\n        \"description\": \"\"\n      }\n    },\n    {\n      \"column\": \"Open Access\",\n      \"properties\": {\n        \"dtype\": \"string\",\n        \"num_unique_values\": 2,\n        \"samples\": [\n          \"All Open Access; Gold Open Access; Green Open Access\",\n          \"All Open Access; Gold Open Access\"\n        ],\n        \"semantic_type\": \"\",\n        \"description\": \"\"\n      }\n    },\n    {\n      \"column\": \"Discipline\",\n      \"properties\": {\n        \"dtype\": \"string\",\n        \"num_unique_values\": 3,\n        \"samples\": [\n          \"ENV\",\n          \"MED 1\"\n        ],\n        \"semantic_type\": \"\",\n        \"description\": \"\"\n      }\n    },\n    {\n      \"column\": \"Countries involved\",\n      \"properties\": {\n        \"dtype\": \"object\",\n        \"semantic_type\": \"\",\n        \"description\": \"\"\n      }\n    },\n    {\n      \"column\": \"Region\",\n      \"properties\": {\n        \"dtype\": \"object\",\n        \"semantic_type\": \"\",\n        \"description\": \"\"\n      }\n    },\n    {\n      \"column\": \"Collaboration Type\",\n      \"properties\": {\n        \"dtype\": \"category\",\n        \"num_unique_values\": 1,\n        \"samples\": [\n          \"International\"\n        ],\n        \"semantic_type\": \"\",\n        \"description\": \"\"\n      }\n    },\n    {\n      \"column\": \"Institutions involved\",\n      \"properties\": {\n        \"dtype\": \"object\",\n        \"semantic_type\": \"\",\n        \"description\": \"\"\n      }\n    }\n  ]\n}"
            }
          },
          "metadata": {},
          "execution_count": 36
        }
      ]
    },
    {
      "cell_type": "code",
      "source": [
        "# Get the number of records without a match\n",
        "num_no_match = len(no_match_records)\n",
        "\n",
        "# Print the result\n",
        "print(f\"Number of records without a match: {num_no_match}\")"
      ],
      "metadata": {
        "colab": {
          "base_uri": "https://localhost:8080/"
        },
        "id": "v9uI8OsPeXKp",
        "outputId": "7dc6b795-e756-4785-9404-63d8e86a521e"
      },
      "execution_count": null,
      "outputs": [
        {
          "output_type": "stream",
          "name": "stdout",
          "text": [
            "Number of records without a match: 15752\n"
          ]
        }
      ]
    },
    {
      "cell_type": "code",
      "source": [
        "# make a copy of Scopus_main\n",
        "df_scopus_inst = df_scopus_main.copy()\n",
        "\n",
        "df_scopus_inst.info()"
      ],
      "metadata": {
        "colab": {
          "base_uri": "https://localhost:8080/"
        },
        "id": "FxPkhglBOr1s",
        "outputId": "f181b3a2-af4d-4d54-99b9-d6a1c0516ef0"
      },
      "execution_count": null,
      "outputs": [
        {
          "output_type": "stream",
          "name": "stdout",
          "text": [
            "<class 'pandas.core.frame.DataFrame'>\n",
            "Index: 122893 entries, 0 to 122897\n",
            "Data columns (total 11 columns):\n",
            " #   Column                     Non-Null Count   Dtype \n",
            "---  ------                     --------------   ----- \n",
            " 0   EID                        122893 non-null  object\n",
            " 1   Authors with affiliations  122893 non-null  object\n",
            " 2   Year                       122893 non-null  int64 \n",
            " 3   DOI                        110074 non-null  object\n",
            " 4   Document Type              122893 non-null  object\n",
            " 5   Open Access                58743 non-null   object\n",
            " 6   Discipline                 122031 non-null  object\n",
            " 7   Countries involved         122893 non-null  object\n",
            " 8   Region                     122893 non-null  object\n",
            " 9   Collaboration Type         122893 non-null  object\n",
            " 10  Institutions involved      122893 non-null  object\n",
            "dtypes: int64(1), object(10)\n",
            "memory usage: 11.3+ MB\n"
          ]
        }
      ]
    },
    {
      "cell_type": "markdown",
      "source": [
        "Next, we clean the institution data."
      ],
      "metadata": {
        "id": "p4pieRD_TJPz"
      }
    },
    {
      "cell_type": "code",
      "source": [
        "# explode by institution and group to inspect\n",
        "df_scopus_inst.explode('Institutions involved').groupby('Institutions involved').size().sort_values(ascending=False)"
      ],
      "metadata": {
        "colab": {
          "base_uri": "https://localhost:8080/",
          "height": 490
        },
        "id": "UV9bu-JrR3pv",
        "outputId": "9e840f15-a115-4bfe-c01c-345a08ace328"
      },
      "execution_count": null,
      "outputs": [
        {
          "output_type": "execute_result",
          "data": {
            "text/plain": [
              "Institutions involved\n",
              "University of Nigeria             13078\n",
              "University of Ibadan              12550\n",
              "Covenant University                7783\n",
              "Obafemi Awolowo University         6772\n",
              "University of Nigeria, Nsukka      6709\n",
              "                                  ...  \n",
              "European University of Nigeria        1\n",
              "Baba Ahmed University                 1\n",
              "Arthur Javis University               1\n",
              "Anan University                       1\n",
              "Zamfara State University              1\n",
              "Length: 374, dtype: int64"
            ],
            "text/html": [
              "<div>\n",
              "<style scoped>\n",
              "    .dataframe tbody tr th:only-of-type {\n",
              "        vertical-align: middle;\n",
              "    }\n",
              "\n",
              "    .dataframe tbody tr th {\n",
              "        vertical-align: top;\n",
              "    }\n",
              "\n",
              "    .dataframe thead th {\n",
              "        text-align: right;\n",
              "    }\n",
              "</style>\n",
              "<table border=\"1\" class=\"dataframe\">\n",
              "  <thead>\n",
              "    <tr style=\"text-align: right;\">\n",
              "      <th></th>\n",
              "      <th>0</th>\n",
              "    </tr>\n",
              "    <tr>\n",
              "      <th>Institutions involved</th>\n",
              "      <th></th>\n",
              "    </tr>\n",
              "  </thead>\n",
              "  <tbody>\n",
              "    <tr>\n",
              "      <th>University of Nigeria</th>\n",
              "      <td>13078</td>\n",
              "    </tr>\n",
              "    <tr>\n",
              "      <th>University of Ibadan</th>\n",
              "      <td>12550</td>\n",
              "    </tr>\n",
              "    <tr>\n",
              "      <th>Covenant University</th>\n",
              "      <td>7783</td>\n",
              "    </tr>\n",
              "    <tr>\n",
              "      <th>Obafemi Awolowo University</th>\n",
              "      <td>6772</td>\n",
              "    </tr>\n",
              "    <tr>\n",
              "      <th>University of Nigeria, Nsukka</th>\n",
              "      <td>6709</td>\n",
              "    </tr>\n",
              "    <tr>\n",
              "      <th>...</th>\n",
              "      <td>...</td>\n",
              "    </tr>\n",
              "    <tr>\n",
              "      <th>European University of Nigeria</th>\n",
              "      <td>1</td>\n",
              "    </tr>\n",
              "    <tr>\n",
              "      <th>Baba Ahmed University</th>\n",
              "      <td>1</td>\n",
              "    </tr>\n",
              "    <tr>\n",
              "      <th>Arthur Javis University</th>\n",
              "      <td>1</td>\n",
              "    </tr>\n",
              "    <tr>\n",
              "      <th>Anan University</th>\n",
              "      <td>1</td>\n",
              "    </tr>\n",
              "    <tr>\n",
              "      <th>Zamfara State University</th>\n",
              "      <td>1</td>\n",
              "    </tr>\n",
              "  </tbody>\n",
              "</table>\n",
              "<p>374 rows × 1 columns</p>\n",
              "</div><br><label><b>dtype:</b> int64</label>"
            ]
          },
          "metadata": {},
          "execution_count": 39
        }
      ]
    },
    {
      "cell_type": "code",
      "source": [
        "# save specific records where we have colleges\n",
        "college = df_scopus_main[df_scopus_main['Institutions involved'].apply(lambda x: any('College' in inst for inst in x))].sample(5)\n",
        "college_indices = college.index.tolist()\n",
        "for institutions in college['Institutions involved']:\n",
        "  print(institutions)"
      ],
      "metadata": {
        "colab": {
          "base_uri": "https://localhost:8080/"
        },
        "id": "9W-qJFCmMSLw",
        "outputId": "d5b6befa-5823-4137-bf30-1a97b3ac4450"
      },
      "execution_count": null,
      "outputs": [
        {
          "output_type": "stream",
          "name": "stdout",
          "text": [
            "['University of Ibadan', 'College of Medicine, University of Ibadan']\n",
            "['University of Ibadan', 'College of Medicine, University of Ibadan']\n",
            "['University of Ibadan', 'University College Hospital, Ibadan']\n",
            "['University of Ibadan', 'College of Medicine, University of Ibadan']\n",
            "['College of Medicine, University of Lagos', 'University of Lagos']\n"
          ]
        }
      ]
    },
    {
      "cell_type": "code",
      "source": [
        "# clean up the aliases of extracted institutions to retain only the Institutions names\n",
        "\n",
        "# Create a dictionary mapping aliases to institution names\n",
        "alias_mapping = {}\n",
        "for index, row in institutions_df[institutions_df['Alias'].notna()].iterrows():  # Filter for rows with aliases\n",
        "    preferred_name = row['Institution name'].lower()\n",
        "\n",
        "    alias_mapping[preferred_name] = []\n",
        "\n",
        "    aliases = row['Alias'].split(';')\n",
        "    for alias in aliases:\n",
        "        alias_mapping[preferred_name].append(alias.strip().lower())"
      ],
      "metadata": {
        "id": "lcLPd2_q00MS"
      },
      "execution_count": null,
      "outputs": []
    },
    {
      "cell_type": "code",
      "source": [
        "print(alias_mapping)"
      ],
      "metadata": {
        "colab": {
          "base_uri": "https://localhost:8080/"
        },
        "id": "3x6njmeNvA27",
        "outputId": "5cbc5625-5f68-432f-a732-8d248cb038e5"
      },
      "execution_count": null,
      "outputs": [
        {
          "output_type": "stream",
          "name": "stdout",
          "text": [
            "{'institute of agricultural research and training': ['institute of agricultural research & training'], 'institute of archaeology and museum studies': ['institute of archaeology & museum studies'], 'national agricultural extension and research liaison services': ['national agricultural extension & research liaison services'], 'national centre for energy research and development': ['national centre for energy research & development'], 'national centre for genetic resources and biotechnology': ['national centre for genetic resources & biotechnology'], 'national institute of pharmaceutical research and development': ['national institute of pharmaceutical research & development'], 'national space research and development agency': ['national space research and development', 'national space research & development', 'national space research & development agency'], 'nigerian building and road research institute': ['nigerian building & road research institute'], 'nigerian institute for oceanography and marine research': ['nigerian institute for oceanography & marine research'], 'nigerian institute of social and economic research': ['nigerian institute of social & economic research'], 'raw materials research and development council': ['raw materials research & development council'], 'abia state university': ['abia state university teaching hospital'], 'abubakar tafawa balewa university': ['abubakar tafawa balewa university teaching hospital'], 'adamawa state university mubi': ['adamawa state university'], 'adeyemi federal university of education': ['adeyemi federal university'], 'admiralty university ibusa': ['admiralty university'], 'afe babalola university': ['afe babalola university teaching hospital'], 'ahmadu bello university': ['ahmadu bello university teaching hospital'], 'akwa ibom state university': ['akwa ibom state university of science and technology', 'akwa ibom state university of science & technology'], 'al-muhibbah open university': ['al-muhibbah university'], 'alex ekwueme university': ['alex ekwueme', 'alex ekwueme federal university ndufu-alike', 'alex ekwueme federal university, ndufu-alike', 'alex ekwueme federal teaching hospital', 'federal teaching hospital, abakaliki'], 'alvan ikoku federal university of education, owerri': ['alvan ikoku federal university of education'], 'amadeus university': ['amadeus university, amizi', 'amadeus university amizi'], 'anchor university ayobo lagos state': ['anchor university'], 'arthur javis university akpoyubo cross river state': ['arthur javis university'], 'atiba university, oyo': ['atiba university'], 'bamidele olumilua university of science and technology, ikere': ['bamidele olumilua university'], 'bayero university': ['aminu kano teaching hospital'], 'benue state university': ['benue state university teaching hospital'], 'bingham university': ['ecwa bingham university', 'bingham university teaching hospital', 'ecwa evangel hospital'], 'christopher university, mowe': ['christopher university'], 'chukwuemeka odumegwu ojukwu university': ['anambra state university'], 'clifford university owerrinta': ['clifford university'], 'confluence university of science and technology osara': ['confluence university', 'confluence university of science & technology', 'confluence university of science and technology'], 'cosmopolitan university, abuja': ['cosmopolitan university'], 'covenant university': ['college of management and social sciences', 'college of management & social sciences'], 'crawford university, igbesa': ['crawford university'], 'cross river state university of technology': ['cross river university of technology, calabar', 'cross river university of technology calabar', 'cross river state university'], 'david nweze umahi federal university of medical sciences': ['david nweze umahi federal university'], 'delta state university abraka': ['delta state university', 'delta state university nigeria', 'delta state university, abraka', 'delta state university teaching hospital'], 'dominican university, ibadan': ['dominican university'], 'dominion university, ibadan': ['dominion university'], 'edo state university': ['edo state university, uzairue', 'edo state university uzairue', 'edo university iyamho'], 'enugu state university of science and technology': ['enugu state university', 'enugu state university teaching hospital', 'anambra state university of technology', 'enugu state university of science & technology'], 'federal university birnin kebbi': ['federal university, birnin kebbi', 'federal university of birnin kebbi'], 'federal university dutse': ['federal university of dutse', 'federal university, dutse', 'rasheed shekoni federal university teaching hospital'], 'federal university dutsin-ma': ['federal university of dutsin-ma', 'federal university, dutsin-ma'], 'federal university gashua': ['federal university of gashua', 'federal university, gashua'], 'federal university gusau': ['federal university of gusau', 'federal university, gusau'], 'federal university kashere': ['federal university of kashere', 'federal university, kashere'], 'federal university lafia': ['federal university of lafia', 'federal university, lafia'], 'federal university lokoja': ['federal university of lokoja', 'federal university, lokoja'], 'federal university of agriculture, bassam-biri': ['federal university of agriculture bassam-biri'], 'federal university of agriculture, abeokuta': ['federal university of agriculture abeokuta', 'federal university of agriculture, pmb 2240, abeokuta'], 'federal university of agriculture, mubi': ['federal university of agriculture mubi'], 'federal university of agriculture, zuru': ['federal university of agriculture zuru'], 'federal university of education, kano': ['federal university of education kano'], 'federal university of education, zaria': ['federal university of education zaria'], 'federal university of health sciences, kwale': ['federal university of health sciences kwale'], 'federal university of health sciences, azare': ['federal university of health sciences azare'], 'federal university of health sciences, ila-orangun': ['federal university of health sciences ila-orangun'], 'federal university of health sciences, katsina': ['federal university of health sciences katsina'], 'federal university of health sciences, otukpo': ['federal university of health sciences otukpo'], 'federal university of petroleum resources, effurun': ['federal university of petroleum resources', 'federal university of petroleum resources effurun', 'federal university of petroleum resources, nigeria'], 'federal university of technology, akure': ['federal university of technology, department of animal production and health, akure', 'federal university of technology akure', 'federal university of technology, p.m.b. 704, akure'], 'federal university of technology, babura': ['federal university of technology babura'], 'federal university of technology, ikot abasi': ['federal university of technology ikot abasi'], 'federal university of technology, minna': ['federal university of technology minna', 'federal university of technology (fut), minna', 'federal university of technology, p.m.b. 65, minna', 'federal university of technology, department of telecommunication engineering, niger-state', 'federal university of technology minna, dept. of telecommunication engineering, niger', 'federal university of technology, school of electrical engineering and technology, dept. of telecommunications engineering, minna', 'federal university of technology, niger', \"federal university of tech, dept of electrical/electronic engr'g, niger state\", 'federal university of technology, department of computer science, minna', 'federal university of tech., electrical department, niger state', 'federal university of technology gidan kwano', 'federal university of technology, department of computer engineering, niger state', 'federal university of technology, department of electrical and electronics engineering, niger state', 'federal university of technology, telecommunication department, niger state', 'federal university of technology, department of transport management technology, niger state', 'federal university of technology, department of mechatronics engineering, niger state'], 'federal university of technology, owerri': ['federal university of technology owerri', 'federal university of technology, p.m.b. 1526, imo state'], 'federal university of transportation, daura': ['federal university of transportation'], 'federal university otuoke': ['federal university, otuoke'], 'federal university oye-ekiti': ['federal university, oye-ekiti'], 'federal university wukari': ['federal university, wukari', 'federal university teaching hospital wukari', 'federal university teaching hospital, wukari'], 'gombe state university of science and technology': ['gombe state university', 'gombe state university of science & technology'], 'hillside university of science and technology': ['hillside university', 'hillside university of science & technology'], 'igbinedion university': ['igbinedion university teaching hospital'], 'ignatius ajuru university of education': ['ignatius ajuru university'], 'imo state university': ['imo state university teaching hospital'], 'joseph sarwuan tarka university': ['federal university of agriculture, makurdi', 'federal university of agriculture makurdi'], 'kaduna state university': ['barau dikko teaching hospital'], 'kano university of science & technology': ['aliko dangote university of science and technology', 'kano university of science and technology', 'aliko dangote university of science & technology'], 'kebbi state university of science and technology': ['kebbi state university'], 'kola daisi university ibadan': ['kola daisi university'], 'ladoke akintola university of technology': ['ladoke akintola university', 'ladoke akintola university of technology teaching hospital'], 'lagos state university': ['lagos state university teaching hospital'], 'lagos state university of science and technology': ['lagos state university of science & technology'], 'michael okpara university of agricultural': ['michael okpara university'], 'micheal & cecilia ibru university': ['micheal and cecilia ibru university'], 'modibbo adama university of technology': ['modibbo adama university, yola', 'modibbo adama university yola', 'modibbo adama university of technology, yola', 'modibbo adama university of technology yola'], 'moshood abiola university of science and technology': ['moshood abiola university of science & technology'], 'national university of science and technology, abuja': ['national university of science and technology abuja', 'national university of science & technology abuja', 'national university of science & technology, abuja'], 'niger delta university': ['niger delta university teaching hospital'], 'nigerian university of technology and management': ['nigerian university of technology & management'], 'nile university of nigeria': ['nile university'], 'nnamdi azikiwe university': ['nnamdi azikiwe university teaching hospital'], 'northwest university': ['northwest university'], 'obafemi awolowo university': ['obafemi awolowo university teaching hospital', 'obafemi awolowo university teaching hospitals complex'], 'olabisi onabanjo university': ['olabisi onabanjo university teaching hospital'], 'ondo state university of science and technology': ['ondo state university of science & technology'], \"redeemer's university\": [\"redeemer's university nigeria\", \"redeemer's university, nigeria\"], 'saisa university of medical sciences and technology': ['saisa university of medical sciences & technology'], 'shehu shagari university of education': ['shehu shagari university'], 'state university of medical and applied sciences': ['state university of medical & applied sciences'], 'tai solarin university of education': ['tai solarin university'], 'university of abuja': ['abuja university teaching hospital', 'university of abuja teaching hospital'], 'university of benin': ['university of benin teaching hospital', 'irrua specialist teaching hospital'], 'university of calabar': ['university of calabar teaching hospital'], 'university of ibadan': ['college of medicine, university of ibadan', 'university college hospital, ibadan', 'university college hospital ibadan'], 'university of jos': ['jos university teaching hospital'], 'university of lagos': ['college of medicine, university of lagos', 'lagos university teaching hospital'], 'university of mkar': ['hilltop university'], 'university of nigeria': ['university of nigeria, nsukka', 'university of nigeria nsukka', 'university of nigeria teaching hospital'], 'university of port-harcourt': ['university of port, harcourt teaching hospital', 'university of port harcourt teaching hospital', 'university of port harcourt'], 'university of uyo': ['university of uyo teaching hospital'], 'usumanu danfodiyo university': ['usmanu danfodiyo university teaching hospital', 'usmanu danfodiyo university'], 'yusuf maitama sule university kano': ['yusuf maitama sule university, kano', 'yusuf maitama sule university']}\n"
          ]
        }
      ]
    },
    {
      "cell_type": "code",
      "source": [
        "# Update the clean_aliases function to handle case and whitespace\n",
        "def clean_institutions(institutions_list):\n",
        "    cleaned_list = []\n",
        "    seen_institutions = set()\n",
        "    for institution in institutions_list:\n",
        "        for preferred_name, aliases in alias_mapping.items():\n",
        "            if institution.lower() in aliases:\n",
        "                if preferred_name not in seen_institutions:\n",
        "                    cleaned_list.append(preferred_name)\n",
        "                    seen_institutions.add(preferred_name)\n",
        "                break  # Move to the next institution once a match is found\n",
        "        else: # If no match found in aliases, check if the institution name itself is in preferred_names\n",
        "            if institution.lower() not in seen_institutions:\n",
        "                cleaned_list.append(institution.lower())\n",
        "                seen_institutions.add(institution.lower())\n",
        "    return cleaned_list"
      ],
      "metadata": {
        "id": "Vtn7c2hLVWuN"
      },
      "execution_count": null,
      "outputs": []
    },
    {
      "cell_type": "code",
      "source": [
        "# Apply the clean_aliases function to the 'Institutions involved' column\n",
        "df_scopus_inst['Institutions involved'] = df_scopus_inst['Institutions involved'].apply(clean_institutions)"
      ],
      "metadata": {
        "id": "gl-Bf6vcWm16"
      },
      "execution_count": null,
      "outputs": []
    },
    {
      "cell_type": "code",
      "source": [
        "# explode by institution and group to inspect\n",
        "df_scopus_inst.explode('Institutions involved').groupby('Institutions involved').size().sort_values(ascending=False)"
      ],
      "metadata": {
        "colab": {
          "base_uri": "https://localhost:8080/",
          "height": 490
        },
        "id": "Pqi-szgY-xzi",
        "outputId": "8e4277e9-083f-4d38-948b-6a85701ede6f"
      },
      "execution_count": null,
      "outputs": [
        {
          "output_type": "execute_result",
          "data": {
            "text/plain": [
              "Institutions involved\n",
              "university of ibadan                                13122\n",
              "university of nigeria                               13078\n",
              "covenant university                                  7799\n",
              "university of lagos                                  6843\n",
              "obafemi awolowo university                           6772\n",
              "                                                    ...  \n",
              "peter university                                        1\n",
              "state university of medical and applied sciences        1\n",
              "ojaja university                                        1\n",
              "philomath university                                    1\n",
              "zamfara state university                                1\n",
              "Length: 236, dtype: int64"
            ],
            "text/html": [
              "<div>\n",
              "<style scoped>\n",
              "    .dataframe tbody tr th:only-of-type {\n",
              "        vertical-align: middle;\n",
              "    }\n",
              "\n",
              "    .dataframe tbody tr th {\n",
              "        vertical-align: top;\n",
              "    }\n",
              "\n",
              "    .dataframe thead th {\n",
              "        text-align: right;\n",
              "    }\n",
              "</style>\n",
              "<table border=\"1\" class=\"dataframe\">\n",
              "  <thead>\n",
              "    <tr style=\"text-align: right;\">\n",
              "      <th></th>\n",
              "      <th>0</th>\n",
              "    </tr>\n",
              "    <tr>\n",
              "      <th>Institutions involved</th>\n",
              "      <th></th>\n",
              "    </tr>\n",
              "  </thead>\n",
              "  <tbody>\n",
              "    <tr>\n",
              "      <th>university of ibadan</th>\n",
              "      <td>13122</td>\n",
              "    </tr>\n",
              "    <tr>\n",
              "      <th>university of nigeria</th>\n",
              "      <td>13078</td>\n",
              "    </tr>\n",
              "    <tr>\n",
              "      <th>covenant university</th>\n",
              "      <td>7799</td>\n",
              "    </tr>\n",
              "    <tr>\n",
              "      <th>university of lagos</th>\n",
              "      <td>6843</td>\n",
              "    </tr>\n",
              "    <tr>\n",
              "      <th>obafemi awolowo university</th>\n",
              "      <td>6772</td>\n",
              "    </tr>\n",
              "    <tr>\n",
              "      <th>...</th>\n",
              "      <td>...</td>\n",
              "    </tr>\n",
              "    <tr>\n",
              "      <th>peter university</th>\n",
              "      <td>1</td>\n",
              "    </tr>\n",
              "    <tr>\n",
              "      <th>state university of medical and applied sciences</th>\n",
              "      <td>1</td>\n",
              "    </tr>\n",
              "    <tr>\n",
              "      <th>ojaja university</th>\n",
              "      <td>1</td>\n",
              "    </tr>\n",
              "    <tr>\n",
              "      <th>philomath university</th>\n",
              "      <td>1</td>\n",
              "    </tr>\n",
              "    <tr>\n",
              "      <th>zamfara state university</th>\n",
              "      <td>1</td>\n",
              "    </tr>\n",
              "  </tbody>\n",
              "</table>\n",
              "<p>236 rows × 1 columns</p>\n",
              "</div><br><label><b>dtype:</b> int64</label>"
            ]
          },
          "metadata": {},
          "execution_count": 45
        }
      ]
    },
    {
      "cell_type": "code",
      "source": [
        "# inspect the exact records that matched colleges earlier\n",
        "\n",
        "cleaned_college_records = df_scopus_inst['Institutions involved'].loc[college_indices]\n",
        "for institutions in cleaned_college_records:\n",
        "  print(institutions)"
      ],
      "metadata": {
        "colab": {
          "base_uri": "https://localhost:8080/"
        },
        "id": "VEdMRkUOEEGc",
        "outputId": "ddca35d0-cf18-4dd8-adaf-a39c778b3485"
      },
      "execution_count": null,
      "outputs": [
        {
          "output_type": "stream",
          "name": "stdout",
          "text": [
            "['university of ibadan']\n",
            "['university of ibadan']\n",
            "['university of ibadan']\n",
            "['university of ibadan']\n",
            "['university of lagos']\n"
          ]
        }
      ]
    },
    {
      "cell_type": "code",
      "source": [
        "# save the scopus_inst back to the Scopus main data\n",
        "df_scopus_main = df_scopus_inst.copy()\n",
        "\n",
        "df_scopus_main.info()"
      ],
      "metadata": {
        "colab": {
          "base_uri": "https://localhost:8080/"
        },
        "id": "MS7gjkoTyKWi",
        "outputId": "c51fcd8f-8fce-40f0-f94d-c0c5669ea946"
      },
      "execution_count": null,
      "outputs": [
        {
          "output_type": "stream",
          "name": "stdout",
          "text": [
            "<class 'pandas.core.frame.DataFrame'>\n",
            "Index: 122893 entries, 0 to 122897\n",
            "Data columns (total 11 columns):\n",
            " #   Column                     Non-Null Count   Dtype \n",
            "---  ------                     --------------   ----- \n",
            " 0   EID                        122893 non-null  object\n",
            " 1   Authors with affiliations  122893 non-null  object\n",
            " 2   Year                       122893 non-null  int64 \n",
            " 3   DOI                        110074 non-null  object\n",
            " 4   Document Type              122893 non-null  object\n",
            " 5   Open Access                58743 non-null   object\n",
            " 6   Discipline                 122031 non-null  object\n",
            " 7   Countries involved         122893 non-null  object\n",
            " 8   Region                     122893 non-null  object\n",
            " 9   Collaboration Type         122893 non-null  object\n",
            " 10  Institutions involved      122893 non-null  object\n",
            "dtypes: int64(1), object(10)\n",
            "memory usage: 15.3+ MB\n"
          ]
        }
      ]
    }
  ]
}